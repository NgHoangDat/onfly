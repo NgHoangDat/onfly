{
 "cells": [
  {
   "cell_type": "markdown",
   "metadata": {},
   "source": [
    "# Matrix"
   ]
  },
  {
   "cell_type": "markdown",
   "metadata": {},
   "source": [
    "#### 1: Viết thuật toán chuyển vị ma trận, tính tổng hai ma trận, tích ma trận với một số, tích hai ma trận với nhau, tính rank, xác định một hệ vector có độc lập tuyến tính không, giải hệ phương trình bậc nhất. KHÔNG ĐƯỢC SỬ DỤNG NUMPY"
   ]
  },
  {
   "cell_type": "markdown",
   "metadata": {},
   "source": [
    "#### 2: Cho một mảng số và một số a cho trước, viết thuật toán tìm các cặp số trong mảng có tổng bằng a"
   ]
  },
  {
   "cell_type": "markdown",
   "metadata": {},
   "source": [
    "#### 3: Cho một mảng số, tìm các mảng con bao gồm các số liên tiếp có tổng bằng số a cho trước "
   ]
  },
  {
   "cell_type": "markdown",
   "metadata": {},
   "source": [
    "#### 4: Tìm tất cả phần tử trùng lặp trong một chuỗi số cho trước"
   ]
  },
  {
   "cell_type": "markdown",
   "metadata": {},
   "source": [
    "#### 5: Tìm độ dài chuỗi con dài nhất trong chuỗi cho trước thỏa mãn tổng các phần tử bằng số a cho trước"
   ]
  },
  {
   "cell_type": "markdown",
   "metadata": {},
   "source": [
    "#### 6: Viết thuật toán tìm chuỗi con có tổng phần tử lớn nhất trong một chuỗi số cho trước"
   ]
  },
  {
   "cell_type": "markdown",
   "metadata": {},
   "source": [
    "#### 7: Viết thuật toán tìm phần tử thứ n của dãy fibonacci"
   ]
  },
  {
   "cell_type": "markdown",
   "metadata": {},
   "source": [
    "#### 8:  Viết thuật toán tìm k phần tử lớn nhất của một chuỗi số"
   ]
  },
  {
   "cell_type": "markdown",
   "metadata": {},
   "source": [
    "#### 9: Viết thuật toán tìm chuỗi con tăng dần dài nhất trong chuỗi cho trước.\n",
    "VD: với chuỗi [0, 8, 4, 12, 2, 10, 6, 14, 1, 9, 5, 13, 3, 11, 7, 15] chuỗi con tăng dần dài nhất là [0, 2, 6, 9, 11, 15]"
   ]
  },
  {
   "cell_type": "markdown",
   "metadata": {},
   "source": [
    "#### 10: Cho trước một xâu s mà một tập xâu K, tìm tất cả vị trí xuất hiện trong xâu s của các từ khóa của tập K"
   ]
  }
 ],
 "metadata": {
  "kernelspec": {
   "display_name": "Python 3",
   "language": "python",
   "name": "python3"
  },
  "language_info": {
   "codemirror_mode": {
    "name": "ipython",
    "version": 3
   },
   "file_extension": ".py",
   "mimetype": "text/x-python",
   "name": "python",
   "nbconvert_exporter": "python",
   "pygments_lexer": "ipython3",
   "version": "3.6.8"
  }
 },
 "nbformat": 4,
 "nbformat_minor": 2
}
